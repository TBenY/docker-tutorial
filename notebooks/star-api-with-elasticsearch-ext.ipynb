{
 "cells": [
  {
   "cell_type": "code",
   "execution_count": 8,
   "metadata": {
    "collapsed": false
   },
   "outputs": [],
   "source": [
    "import os\n",
    "\n",
    "from elasticsearch import Elasticsearch\n",
    "import requests"
   ]
  },
  {
   "cell_type": "code",
   "execution_count": 9,
   "metadata": {
    "collapsed": false
   },
   "outputs": [],
   "source": [
    "response = requests.get('http://star-api.herokuapp.com/api/v1/stars/Sun')"
   ]
  },
  {
   "cell_type": "code",
   "execution_count": 10,
   "metadata": {
    "collapsed": false
   },
   "outputs": [
    {
     "data": {
      "text/plain": [
       "{u'absmag': 4.85,\n",
       " u'appmag': -26.72,\n",
       " u'colorb_v': 0.65,\n",
       " u'created_at': u'2014-11-08T14:49:09.334Z',\n",
       " u'dcalc': 0.0,\n",
       " u'distly': 0.0,\n",
       " u'hipnum': 0.0,\n",
       " u'id': 53794,\n",
       " u'label': u'Sun',\n",
       " u'lum': 0.8913,\n",
       " u'plx': 0.0,\n",
       " u'plxerr': 0.0,\n",
       " u'speed': 0.0,\n",
       " u'texnum': 1.0,\n",
       " u'updated_at': u'2014-11-08T14:49:09.334Z',\n",
       " u'vx': 0.0,\n",
       " u'vy': 0.0,\n",
       " u'vz': 0.0,\n",
       " u'x': 0.0,\n",
       " u'y': 0.0,\n",
       " u'z': 0.0}"
      ]
     },
     "execution_count": 10,
     "metadata": {},
     "output_type": "execute_result"
    }
   ],
   "source": [
    "response.json()"
   ]
  },
  {
   "cell_type": "code",
   "execution_count": 11,
   "metadata": {
    "collapsed": false
   },
   "outputs": [],
   "source": [
    "es = Elasticsearch('192.168.59.103:32770')"
   ]
  },
  {
   "cell_type": "code",
   "execution_count": 12,
   "metadata": {
    "collapsed": false
   },
   "outputs": [
    {
     "data": {
      "text/plain": [
       "{u'cluster_name': u'elasticsearch',\n",
       " u'name': u'Worm',\n",
       " u'status': 200,\n",
       " u'tagline': u'You Know, for Search',\n",
       " u'version': {u'build_hash': u'2aaf797f2a571dcb779a3b61180afe8390ab61f9',\n",
       "  u'build_snapshot': False,\n",
       "  u'build_timestamp': u'2015-04-27T08:06:06Z',\n",
       "  u'lucene_version': u'4.10.4',\n",
       "  u'number': u'1.4.5'}}"
      ]
     },
     "execution_count": 12,
     "metadata": {},
     "output_type": "execute_result"
    }
   ],
   "source": [
    "es.info()"
   ]
  },
  {
   "cell_type": "code",
   "execution_count": 13,
   "metadata": {
    "collapsed": false
   },
   "outputs": [
    {
     "data": {
      "text/plain": [
       "{u'acknowledged': True}"
      ]
     },
     "execution_count": 13,
     "metadata": {},
     "output_type": "execute_result"
    }
   ],
   "source": [
    "es.indices.create(index='stars')"
   ]
  },
  {
   "cell_type": "code",
   "execution_count": 14,
   "metadata": {
    "collapsed": false
   },
   "outputs": [],
   "source": [
    "sun = response.json()"
   ]
  },
  {
   "cell_type": "code",
   "execution_count": 15,
   "metadata": {
    "collapsed": false
   },
   "outputs": [
    {
     "data": {
      "text/plain": [
       "{u'_id': u'AU2iEZFLZqJfgSIvzVRu',\n",
       " u'_index': u'stars',\n",
       " u'_type': u'star',\n",
       " u'_version': 1,\n",
       " u'created': True}"
      ]
     },
     "execution_count": 15,
     "metadata": {},
     "output_type": "execute_result"
    }
   ],
   "source": [
    "es.index(index='stars', doc_type='star', body=sun)"
   ]
  },
  {
   "cell_type": "code",
   "execution_count": 16,
   "metadata": {
    "collapsed": false
   },
   "outputs": [
    {
     "data": {
      "text/plain": [
       "{u'_shards': {u'failed': 0, u'successful': 5, u'total': 5},\n",
       " u'hits': {u'hits': [{u'_id': u'AU2iEZFLZqJfgSIvzVRu',\n",
       "    u'_index': u'stars',\n",
       "    u'_score': 1.0,\n",
       "    u'_source': {u'absmag': 4.85,\n",
       "     u'appmag': -26.72,\n",
       "     u'colorb_v': 0.65,\n",
       "     u'created_at': u'2014-11-08T14:49:09.334Z',\n",
       "     u'dcalc': 0.0,\n",
       "     u'distly': 0.0,\n",
       "     u'hipnum': 0.0,\n",
       "     u'id': 53794,\n",
       "     u'label': u'Sun',\n",
       "     u'lum': 0.8913,\n",
       "     u'plx': 0.0,\n",
       "     u'plxerr': 0.0,\n",
       "     u'speed': 0.0,\n",
       "     u'texnum': 1.0,\n",
       "     u'updated_at': u'2014-11-08T14:49:09.334Z',\n",
       "     u'vx': 0.0,\n",
       "     u'vy': 0.0,\n",
       "     u'vz': 0.0,\n",
       "     u'x': 0.0,\n",
       "     u'y': 0.0,\n",
       "     u'z': 0.0},\n",
       "    u'_type': u'star'}],\n",
       "  u'max_score': 1.0,\n",
       "  u'total': 1},\n",
       " u'timed_out': False,\n",
       " u'took': 56}"
      ]
     },
     "execution_count": 16,
     "metadata": {},
     "output_type": "execute_result"
    }
   ],
   "source": [
    "es.search()"
   ]
  },
  {
   "cell_type": "code",
   "execution_count": 17,
   "metadata": {
    "collapsed": true
   },
   "outputs": [],
   "source": [
    "response = requests.get('http://star-api.herokuapp.com/api/v1/stars')"
   ]
  },
  {
   "cell_type": "code",
   "execution_count": 18,
   "metadata": {
    "collapsed": true
   },
   "outputs": [],
   "source": [
    "for star in response.json():\n",
    "   es.index(index='stars', doc_type='star', body=star) "
   ]
  },
  {
   "cell_type": "code",
   "execution_count": 19,
   "metadata": {
    "collapsed": false
   },
   "outputs": [],
   "source": [
    "search_results = es.search()"
   ]
  },
  {
   "cell_type": "code",
   "execution_count": 20,
   "metadata": {
    "collapsed": false
   },
   "outputs": [
    {
     "data": {
      "text/plain": [
       "422"
      ]
     },
     "execution_count": 20,
     "metadata": {},
     "output_type": "execute_result"
    }
   ],
   "source": [
    "search_results['hits']['total']"
   ]
  },
  {
   "cell_type": "code",
   "execution_count": 21,
   "metadata": {
    "collapsed": false
   },
   "outputs": [
    {
     "data": {
      "text/plain": [
       "{u'_shards': {u'failed': 0, u'successful': 5, u'total': 5},\n",
       " u'hits': {u'hits': [{u'_id': u'AU2iEZFLZqJfgSIvzVRu',\n",
       "    u'_index': u'stars',\n",
       "    u'_score': 4.8815637,\n",
       "    u'_source': {u'absmag': 4.85,\n",
       "     u'appmag': -26.72,\n",
       "     u'colorb_v': 0.65,\n",
       "     u'created_at': u'2014-11-08T14:49:09.334Z',\n",
       "     u'dcalc': 0.0,\n",
       "     u'distly': 0.0,\n",
       "     u'hipnum': 0.0,\n",
       "     u'id': 53794,\n",
       "     u'label': u'Sun',\n",
       "     u'lum': 0.8913,\n",
       "     u'plx': 0.0,\n",
       "     u'plxerr': 0.0,\n",
       "     u'speed': 0.0,\n",
       "     u'texnum': 1.0,\n",
       "     u'updated_at': u'2014-11-08T14:49:09.334Z',\n",
       "     u'vx': 0.0,\n",
       "     u'vy': 0.0,\n",
       "     u'vz': 0.0,\n",
       "     u'x': 0.0,\n",
       "     u'y': 0.0,\n",
       "     u'z': 0.0},\n",
       "    u'_type': u'star'},\n",
       "   {u'_id': u'AU2iEeQoZqJfgSIvzVRv',\n",
       "    u'_index': u'stars',\n",
       "    u'_score': 4.8286414,\n",
       "    u'_source': {u'absmag': 4.85,\n",
       "     u'appmag': -26.72,\n",
       "     u'colorb_v': 0.65,\n",
       "     u'created_at': u'2014-11-08T14:49:09.334Z',\n",
       "     u'dcalc': 0.0,\n",
       "     u'distly': 0.0,\n",
       "     u'hipnum': 0.0,\n",
       "     u'id': 53794,\n",
       "     u'label': u'Sun',\n",
       "     u'lum': 0.8913,\n",
       "     u'plx': 0.0,\n",
       "     u'plxerr': 0.0,\n",
       "     u'speed': 0.0,\n",
       "     u'texnum': 1.0,\n",
       "     u'updated_at': u'2014-11-08T14:49:09.334Z',\n",
       "     u'vx': 0.0,\n",
       "     u'vy': 0.0,\n",
       "     u'vz': 0.0,\n",
       "     u'x': 0.0,\n",
       "     u'y': 0.0,\n",
       "     u'z': 0.0},\n",
       "    u'_type': u'star'}],\n",
       "  u'max_score': 4.8815637,\n",
       "  u'total': 2},\n",
       " u'timed_out': False,\n",
       " u'took': 64}"
      ]
     },
     "execution_count": 21,
     "metadata": {},
     "output_type": "execute_result"
    }
   ],
   "source": [
    "es.search(index='stars',\n",
    "          doc_type='star',\n",
    "          body={'query': {'term': {'label': 'sun'}}})"
   ]
  },
  {
   "cell_type": "code",
   "execution_count": 22,
   "metadata": {
    "collapsed": false
   },
   "outputs": [],
   "source": [
    "stats = es.indices.stats()"
   ]
  },
  {
   "cell_type": "code",
   "execution_count": 23,
   "metadata": {
    "collapsed": false
   },
   "outputs": [
    {
     "data": {
      "text/plain": [
       "[u'_all', u'indices', u'_shards']"
      ]
     },
     "execution_count": 23,
     "metadata": {},
     "output_type": "execute_result"
    }
   ],
   "source": [
    "stats.keys()"
   ]
  },
  {
   "cell_type": "code",
   "execution_count": 24,
   "metadata": {
    "collapsed": false
   },
   "outputs": [
    {
     "data": {
      "text/plain": [
       "[u'stars']"
      ]
     },
     "execution_count": 24,
     "metadata": {},
     "output_type": "execute_result"
    }
   ],
   "source": [
    "stats['indices'].keys()"
   ]
  }
 ],
 "metadata": {
  "kernelspec": {
   "display_name": "Python 2",
   "language": "python",
   "name": "python2"
  },
  "language_info": {
   "codemirror_mode": {
    "name": "ipython",
    "version": 2
   },
   "file_extension": ".py",
   "mimetype": "text/x-python",
   "name": "python",
   "nbconvert_exporter": "python",
   "pygments_lexer": "ipython2",
   "version": "2.7.10"
  }
 },
 "nbformat": 4,
 "nbformat_minor": 0
}
